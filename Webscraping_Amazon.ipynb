{
  "nbformat": 4,
  "nbformat_minor": 0,
  "metadata": {
    "colab": {
      "name": "Webscraping Amazon.ipynb",
      "provenance": [],
      "authorship_tag": "ABX9TyO9qgsp0lW9T3YL0SEUzlzZ",
      "include_colab_link": true
    },
    "kernelspec": {
      "name": "python3",
      "display_name": "Python 3"
    },
    "language_info": {
      "name": "python"
    }
  },
  "cells": [
    {
      "cell_type": "markdown",
      "metadata": {
        "id": "view-in-github",
        "colab_type": "text"
      },
      "source": [
        "<a href=\"https://colab.research.google.com/github/ManojBhuma/WebscrapingAmazon/blob/main/Webscraping_Amazon.ipynb\" target=\"_parent\"><img src=\"https://colab.research.google.com/assets/colab-badge.svg\" alt=\"Open In Colab\"/></a>"
      ]
    },
    {
      "cell_type": "code",
      "metadata": {
        "id": "s7E3wbd9ToIA"
      },
      "source": [
        "import requests\n",
        "from bs4 import BeautifulSoup"
      ],
      "execution_count": null,
      "outputs": []
    },
    {
      "cell_type": "code",
      "metadata": {
        "id": "_4Dr2CYMTtfW"
      },
      "source": [
        "HEADERS = ({'User-Agent':\n",
        "            'Mozilla/5.0 (X11; Linux x86_64) AppleWebKit/537.36 (KHTML, like Gecko) Chrome/44.0.2403.157 Safari/537.36',\n",
        "            'Accept-Language': 'en-US, en;q=0.5'})"
      ],
      "execution_count": null,
      "outputs": []
    },
    {
      "cell_type": "code",
      "metadata": {
        "colab": {
          "base_uri": "https://localhost:8080/"
        },
        "id": "lmWziWoYTvHG",
        "outputId": "5a9605f3-6b97-4530-b56e-daed9401cb66"
      },
      "source": [
        "itemName = input(\"Enter Item Name: \")\n",
        "URL = \"https://www.amazon.ca/s?k=\"+itemName\n",
        "webpage = requests.get(URL, headers=HEADERS)"
      ],
      "execution_count": null,
      "outputs": [
        {
          "output_type": "stream",
          "text": [
            "Enter Item Name: amazon fire stick\n"
          ],
          "name": "stdout"
        }
      ]
    },
    {
      "cell_type": "code",
      "metadata": {
        "id": "pNhVSdGITxsI"
      },
      "source": [
        "soup = BeautifulSoup(webpage.content, \"lxml\")\n",
        "link = soup.findAll('a',attrs={'class':'a-link-normal a-text-normal'})\n",
        "#Get First Product from search\n",
        "productPage = \"https://www.amazon.ca\"+link[0]['href']"
      ],
      "execution_count": null,
      "outputs": []
    },
    {
      "cell_type": "code",
      "metadata": {
        "id": "ipI3D570TzVX"
      },
      "source": [
        "productPage = requests.get(productPage, headers=HEADERS)"
      ],
      "execution_count": null,
      "outputs": []
    },
    {
      "cell_type": "code",
      "metadata": {
        "id": "vsU3j6bTT048"
      },
      "source": [
        "soup2 = BeautifulSoup(productPage.content, \"lxml\")"
      ],
      "execution_count": null,
      "outputs": []
    },
    {
      "cell_type": "code",
      "metadata": {
        "id": "djVeeiwqT2LF"
      },
      "source": [
        "title = soup2.find(\"span\", attrs={\"id\":'productTitle'})"
      ],
      "execution_count": null,
      "outputs": []
    },
    {
      "cell_type": "code",
      "metadata": {
        "id": "rOBA7-WDT3d7"
      },
      "source": [
        "productTitle = title.string.strip()"
      ],
      "execution_count": null,
      "outputs": []
    },
    {
      "cell_type": "code",
      "metadata": {
        "colab": {
          "base_uri": "https://localhost:8080/"
        },
        "id": "9A5U30PzT4yL",
        "outputId": "01b04524-055d-4c2f-e64b-982614cb57e5"
      },
      "source": [
        "print(productTitle)"
      ],
      "execution_count": null,
      "outputs": [
        {
          "output_type": "stream",
          "text": [
            "Fire TV Stick (3rd Gen) with Alexa Voice Remote (includes TV controls) | HD streaming device | 2021 release\n"
          ],
          "name": "stdout"
        }
      ]
    },
    {
      "cell_type": "code",
      "metadata": {
        "id": "sADbsBW6T6M3"
      },
      "source": [
        "import requests\n",
        "from bs4 import BeautifulSoup"
      ],
      "execution_count": null,
      "outputs": []
    },
    {
      "cell_type": "code",
      "metadata": {
        "id": "zcROtQNpT7oi"
      },
      "source": [
        "#Scrape Product Details\n",
        "#{\"id\":'feature-bullets'}\n",
        "def get_item_Description(soup):\n",
        "    description = soup.find(\"span\", attrs={\"id\":'productTitle'})\n",
        "    descriptionText = description.string.strip()\n",
        "    return descriptionText\n",
        "\n",
        "def get_itemPrice(soup):\n",
        "    price = soup.find(\"span\", attrs={\"id\":'price_inside_buybox'})\n",
        "    priceText = price.string.strip()\n",
        "    return priceText\n",
        "\n",
        "def get_vendor(soup):\n",
        "    try:\n",
        "        vendor = soup.find(\"a\", attrs={\"id\":'sellerProfileTriggerId'})\n",
        "        vendorText = vendor.string.strip()\n",
        "        return vendorText\n",
        "    except AttributeError:\n",
        "        return \"Sold By Amazon\"\n",
        "    "
      ],
      "execution_count": null,
      "outputs": []
    },
    {
      "cell_type": "code",
      "metadata": {
        "colab": {
          "base_uri": "https://localhost:8080/"
        },
        "id": "6xzTYnkDT-SP",
        "outputId": "ab7b4939-a79d-457a-9047-f0b3209efa0e"
      },
      "source": [
        "itemDescription = get_item_Description(soup2)\n",
        "print(itemDescription)"
      ],
      "execution_count": null,
      "outputs": [
        {
          "output_type": "stream",
          "text": [
            "Fire TV Stick (3rd Gen) with Alexa Voice Remote (includes TV controls) | HD streaming device | 2021 release\n"
          ],
          "name": "stdout"
        }
      ]
    },
    {
      "cell_type": "code",
      "metadata": {
        "colab": {
          "base_uri": "https://localhost:8080/"
        },
        "id": "iVLWHKetT--s",
        "outputId": "b680b4e6-82ba-45e0-8d25-547ba16ba798"
      },
      "source": [
        "itemPrice = get_itemPrice(soup2)\n",
        "print(itemPrice)"
      ],
      "execution_count": null,
      "outputs": [
        {
          "output_type": "stream",
          "text": [
            "$59.99\n"
          ],
          "name": "stdout"
        }
      ]
    },
    {
      "cell_type": "code",
      "metadata": {
        "colab": {
          "base_uri": "https://localhost:8080/"
        },
        "id": "Zw0CCI0aUAPa",
        "outputId": "06a44b52-3a50-49e2-82a6-c0612adabda9"
      },
      "source": [
        "vendorName = get_vendor(soup2)\n",
        "print(vendorName)"
      ],
      "execution_count": null,
      "outputs": [
        {
          "output_type": "stream",
          "text": [
            "Sold By Amazon\n"
          ],
          "name": "stdout"
        }
      ]
    },
    {
      "cell_type": "code",
      "metadata": {
        "id": "SqkNL0pNUBl9"
      },
      "source": [
        "links = []\n",
        "for i in soup2.findAll(\"a\",{'data-hook':\"see-all-reviews-link-foot\"}):\n",
        "    links.append(i['href'])"
      ],
      "execution_count": null,
      "outputs": []
    },
    {
      "cell_type": "code",
      "metadata": {
        "id": "GHIMUC3YUC6S"
      },
      "source": [
        "def searchReviews(reviewLink):\n",
        "    url=\"https://www.amazon.ca\"+reviewLink\n",
        "    page=requests.get(url,headers=HEADERS)\n",
        "    if page.status_code==200:\n",
        "        return page\n",
        "    else:\n",
        "        return \"Error\""
      ],
      "execution_count": null,
      "outputs": []
    },
    {
      "cell_type": "code",
      "metadata": {
        "id": "eFUeaXehUELy"
      },
      "source": [
        "reviews=[]\n",
        "reviewerName=[]\n",
        "ratings=[]\n",
        "reviewDate=[]\n",
        "for j in range(len(links)):\n",
        "    for k in range(50):\n",
        "        response=searchReviews(links[j]+'&pageNumber='+str(k+1))\n",
        "        soup=BeautifulSoup(response.content)\n",
        "        for i in soup.findAll(\"span\",{'data-hook':\"review-body\"}):\n",
        "            reviews.append(i.text.strip())\n",
        "        for i in soup.findAll(\"span\",{'class':\"a-profile-name\"})[2:]:\n",
        "            reviewerName.append(i.text.strip())\n",
        "        for i in soup.findAll(\"i\",{'data-hook':\"review-star-rating\"}):\n",
        "            ratings.append(i.text.strip())\n",
        "        for i in soup.findAll(\"span\",{'data-hook':\"review-date\"}):\n",
        "            reviewDate.append(i.text.strip()) "
      ],
      "execution_count": null,
      "outputs": []
    },
    {
      "cell_type": "code",
      "metadata": {
        "id": "XezF75H7UF5u"
      },
      "source": [
        "import pandas as pd"
      ],
      "execution_count": null,
      "outputs": []
    },
    {
      "cell_type": "code",
      "metadata": {
        "id": "F-QahVBrUHfz"
      },
      "source": [
        "itemD = {'itemName':[itemName],'itemDescription':[itemDescription],'itemPrice':[itemPrice],'vendorName':[vendorName]}\n",
        "items_Data = pd.DataFrame.from_dict(itemD)\n",
        "items_Data.to_csv('items.csv',index=False)"
      ],
      "execution_count": null,
      "outputs": []
    },
    {
      "cell_type": "code",
      "metadata": {
        "colab": {
          "base_uri": "https://localhost:8080/"
        },
        "id": "6kYj7gzwUIvw",
        "outputId": "7f0add4d-3475-4366-ad19-91049955b75a"
      },
      "source": [
        "print(len(reviewerName))\n",
        "print(len(reviews))\n",
        "print(len(ratings))\n",
        "print(len(reviewDate))"
      ],
      "execution_count": null,
      "outputs": [
        {
          "output_type": "stream",
          "text": [
            "119\n",
            "119\n",
            "119\n",
            "119\n"
          ],
          "name": "stdout"
        }
      ]
    },
    {
      "cell_type": "code",
      "metadata": {
        "id": "5tGrDcxjUKIp"
      },
      "source": [
        "dicti = {'reviewerName':reviewerName,'reviews':reviews,'ratings':ratings,'reviewDate':reviewDate}\n",
        "reviews_Data = pd.DataFrame.from_dict(dicti)\n",
        "reviews_Data.to_csv('reviews.csv',index=False)"
      ],
      "execution_count": null,
      "outputs": []
    }
  ]
}